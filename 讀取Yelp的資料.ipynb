{
 "cells": [
  {
   "cell_type": "markdown",
   "metadata": {},
   "source": [
    "讀取Yelp的資料"
   ]
  },
  {
   "cell_type": "code",
   "execution_count": 1,
   "metadata": {},
   "outputs": [],
   "source": [
    "import os\n",
    "import urllib.request\n",
    "import pandas as pd"
   ]
  },
  {
   "cell_type": "code",
   "execution_count": 4,
   "metadata": {},
   "outputs": [],
   "source": [
    "yelpbusiness = pd.read_pickle('/Users/Angel/Documents/Yelp Analysis/yelp_academic_dataset_business.pickle')\n",
    "out = yelpbusiness .to_json(orient='records')[1:-1].replace('},{', '} {')"
   ]
  },
  {
   "cell_type": "code",
   "execution_count": 5,
   "metadata": {},
   "outputs": [
    {
     "data": {
      "text/plain": [
       "61184"
      ]
     },
     "execution_count": 5,
     "metadata": {},
     "output_type": "execute_result"
    }
   ],
   "source": [
    "data = []\n",
    "for i in yelpbusiness.index:\n",
    "    d = {}\n",
    "    for j in yelpbusiness.columns:\n",
    "        d[j] = yelpbusiness[j][i]\n",
    "    data.append(d)\n",
    "len(data)"
   ]
  },
  {
   "cell_type": "code",
   "execution_count": 6,
   "metadata": {},
   "outputs": [
    {
     "data": {
      "text/plain": [
       "Index(['attributes', 'business_id', 'categories', 'city', 'full_address',\n",
       "       'hours', 'latitude', 'longitude', 'name', 'neighborhoods', 'open',\n",
       "       'review_count', 'stars', 'state', 'type'],\n",
       "      dtype='object')"
      ]
     },
     "execution_count": 6,
     "metadata": {},
     "output_type": "execute_result"
    }
   ],
   "source": [
    "yelpbusiness.columns"
   ]
  },
  {
   "cell_type": "code",
   "execution_count": 7,
   "metadata": {},
   "outputs": [
    {
     "data": {
      "text/plain": [
       "{'attributes': {'By Appointment Only': True},\n",
       " 'business_id': 'vcNAWiLM4dR7D2nwwJ7nCA',\n",
       " 'categories': ['Doctors', 'Health & Medical'],\n",
       " 'city': 'Phoenix',\n",
       " 'full_address': '4840 E Indian School Rd\\nSte 101\\nPhoenix, AZ 85018',\n",
       " 'hours': {'Thursday': {'close': '17:00', 'open': '08:00'},\n",
       "  'Tuesday': {'close': '17:00', 'open': '08:00'},\n",
       "  'Friday': {'close': '17:00', 'open': '08:00'},\n",
       "  'Wednesday': {'close': '17:00', 'open': '08:00'},\n",
       "  'Monday': {'close': '17:00', 'open': '08:00'}},\n",
       " 'latitude': 33.499313,\n",
       " 'longitude': -111.983758,\n",
       " 'name': 'Eric Goldberg, MD',\n",
       " 'neighborhoods': [],\n",
       " 'open': True,\n",
       " 'review_count': 9,\n",
       " 'stars': 3.5,\n",
       " 'state': 'AZ',\n",
       " 'type': 'business'}"
      ]
     },
     "execution_count": 7,
     "metadata": {},
     "output_type": "execute_result"
    }
   ],
   "source": [
    "data[0]"
   ]
  },
  {
   "cell_type": "code",
   "execution_count": 8,
   "metadata": {},
   "outputs": [
    {
     "data": {
      "text/plain": [
       "0                            {'By Appointment Only': True}\n",
       "1        {'Happy Hour': True, 'Accepts Credit Cards': T...\n",
       "2                                  {'Good for Kids': True}\n",
       "3                                                       {}\n",
       "4        {'Alcohol': 'full_bar', 'Noise Level': 'averag...\n",
       "5        {'Alcohol': 'full_bar', 'Noise Level': 'loud',...\n",
       "6                                                       {}\n",
       "7                                  {'Good for Kids': True}\n",
       "8                                                       {}\n",
       "9        {'Take-out': True, 'Drive-Thru': False, 'Outdo...\n",
       "10       {'Price Range': 3, 'Accepts Credit Cards': Tru...\n",
       "11       {'Alcohol': 'full_bar', 'Noise Level': 'averag...\n",
       "12       {'Alcohol': 'none', 'Noise Level': 'average', ...\n",
       "13       {'Take-out': True, 'Price Range': 1, 'Outdoor ...\n",
       "14       {'Accepts Credit Cards': True, 'Wi-Fi': 'free'...\n",
       "15       {'Take-out': True, 'Price Range': 2, 'Outdoor ...\n",
       "16                                                      {}\n",
       "17                         {'Accepts Credit Cards': False}\n",
       "18       {'Take-out': True, 'Accepts Credit Cards': Tru...\n",
       "19                           {'By Appointment Only': True}\n",
       "20       {'Take-out': True, 'Alcohol': 'none', 'Noise L...\n",
       "21       {'Take-out': True, 'Accepts Credit Cards': Tru...\n",
       "22                                                      {}\n",
       "23       {'Take-out': True, 'Accepts Credit Cards': Tru...\n",
       "24                           {'By Appointment Only': True}\n",
       "25       {'Take-out': True, 'Accepts Credit Cards': Tru...\n",
       "26       {'Attire': 'casual', 'Parking': {'garage': Fal...\n",
       "27       {'Accepts Credit Cards': True, 'Price Range': ...\n",
       "28       {'Accepts Credit Cards': True, 'Price Range': ...\n",
       "29       {'Take-out': True, 'Accepts Credit Cards': Tru...\n",
       "                               ...                        \n",
       "61154                              {'Good for Kids': True}\n",
       "61155    {'Price Range': 2, 'Accepts Credit Cards': Tru...\n",
       "61156    {'Take-out': False, 'Accepts Credit Cards': Tr...\n",
       "61157    {'Take-out': True, 'Drive-Thru': True, 'Alcoho...\n",
       "61158                                                   {}\n",
       "61159    {'Take-out': True, 'Accepts Credit Cards': Tru...\n",
       "61160    {'Accepts Credit Cards': True, 'Price Range': ...\n",
       "61161    {'Take-out': True, 'Accepts Credit Cards': Tru...\n",
       "61162    {'Drive-Thru': False, 'Alcohol': 'full_bar', '...\n",
       "61163    {'Take-out': True, 'Accepts Credit Cards': Tru...\n",
       "61164    {'Take-out': True, 'Good For': {'dessert': Fal...\n",
       "61165    {'Take-out': True, 'Accepts Credit Cards': Tru...\n",
       "61166    {'Take-out': True, 'Takes Reservations': True,...\n",
       "61167    {'Hair Types Specialized In': {'coloring': Tru...\n",
       "61168    {'Take-out': True, 'Takes Reservations': False...\n",
       "61169    {'Take-out': True, 'Accepts Credit Cards': Tru...\n",
       "61170    {'Take-out': True, 'Accepts Credit Cards': Tru...\n",
       "61171    {'By Appointment Only': True, 'Accepts Credit ...\n",
       "61172    {'Take-out': True, 'Price Range': 2, 'Outdoor ...\n",
       "61173    {'Take-out': True, 'Accepts Credit Cards': Tru...\n",
       "61174                       {'Accepts Credit Cards': True}\n",
       "61175    {'Take-out': False, 'Price Range': 2, 'Outdoor...\n",
       "61176                                                   {}\n",
       "61177    {'Alcohol': 'full_bar', 'Noise Level': 'averag...\n",
       "61178    {'Take-out': False, 'Accepts Credit Cards': Tr...\n",
       "61179                              {'Good for Kids': True}\n",
       "61180                                                   {}\n",
       "61181    {'Delivery': False, 'Accepts Credit Cards': Tr...\n",
       "61182                       {'Accepts Credit Cards': True}\n",
       "61183                                                   {}\n",
       "Name: attributes, Length: 61184, dtype: object"
      ]
     },
     "execution_count": 8,
     "metadata": {},
     "output_type": "execute_result"
    }
   ],
   "source": [
    "yelpbusiness['attributes']"
   ]
  },
  {
   "cell_type": "code",
   "execution_count": null,
   "metadata": {},
   "outputs": [],
   "source": [
    "#json_data = yelpbusiness.to_json(orient='records')"
   ]
  }
 ],
 "metadata": {
  "kernelspec": {
   "display_name": "Python 3",
   "language": "python",
   "name": "python3"
  },
  "language_info": {
   "codemirror_mode": {
    "name": "ipython",
    "version": 3
   },
   "file_extension": ".py",
   "mimetype": "text/x-python",
   "name": "python",
   "nbconvert_exporter": "python",
   "pygments_lexer": "ipython3",
   "version": "3.6.5"
  }
 },
 "nbformat": 4,
 "nbformat_minor": 2
}
