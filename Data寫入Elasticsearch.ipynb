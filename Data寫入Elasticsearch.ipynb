{
 "cells": [
  {
   "cell_type": "markdown",
   "metadata": {},
   "source": [
    "引用Library"
   ]
  },
  {
   "cell_type": "code",
   "execution_count": 3,
   "metadata": {},
   "outputs": [],
   "source": [
    "import os\n",
    "import urllib.request\n",
    "import pandas as pd\n",
    "from elasticsearch import Elasticsearch\n",
    "\n",
    "es = Elasticsearch()"
   ]
  },
  {
   "cell_type": "markdown",
   "metadata": {},
   "source": [
    "建立資料庫"
   ]
  },
  {
   "cell_type": "code",
   "execution_count": 18,
   "metadata": {},
   "outputs": [
    {
     "name": "stdout",
     "output_type": "stream",
     "text": [
      "{'acknowledged': True, 'shards_acknowledged': True, 'index': 'yelp'}\n"
     ]
    }
   ],
   "source": [
    "result = es.indices.create(index='yelp', ignore=400)\n",
    "print(result)"
   ]
  },
  {
   "cell_type": "markdown",
   "metadata": {},
   "source": [
    "讀取pickle進pandas"
   ]
  },
  {
   "cell_type": "code",
   "execution_count": 45,
   "metadata": {},
   "outputs": [
    {
     "data": {
      "text/plain": [
       "Index(['attributes', 'business_id', 'categories', 'city', 'full_address',\n",
       "       'hours', 'latitude', 'longitude', 'name', 'neighborhoods', 'open',\n",
       "       'review_count', 'stars', 'state', 'type'],\n",
       "      dtype='object')"
      ]
     },
     "execution_count": 45,
     "metadata": {},
     "output_type": "execute_result"
    }
   ],
   "source": [
    "yelpbusiness = pd.read_pickle('/Users/Angel/Documents/Yelp_Analysis/yelp_academic_dataset_business.pickle')\n",
    "out = yelpbusiness .to_json(orient='records')[1:-1].replace('},{', '} {')\n",
    "businessdata = []\n",
    "for i in yelpbusiness.index:\n",
    "    d = {}\n",
    "    for j in yelpbusiness.columns:\n",
    "        d[j] = yelpbusiness[j][i]\n",
    "    businessdata.append(d)\n",
    "len(businessdata)\n",
    "yelpbusiness.columns"
   ]
  },
  {
   "cell_type": "code",
   "execution_count": 50,
   "metadata": {},
   "outputs": [
    {
     "data": {
      "text/plain": [
       "{'attributes': {'By Appointment Only': True},\n",
       " 'business_id': 'vcNAWiLM4dR7D2nwwJ7nCA',\n",
       " 'categories': ['Doctors', 'Health & Medical'],\n",
       " 'city': 'Phoenix',\n",
       " 'full_address': '4840 E Indian School Rd\\nSte 101\\nPhoenix, AZ 85018',\n",
       " 'hours': {'Thursday': {'close': '17:00', 'open': '08:00'},\n",
       "  'Tuesday': {'close': '17:00', 'open': '08:00'},\n",
       "  'Friday': {'close': '17:00', 'open': '08:00'},\n",
       "  'Wednesday': {'close': '17:00', 'open': '08:00'},\n",
       "  'Monday': {'close': '17:00', 'open': '08:00'}},\n",
       " 'latitude': 33.499313,\n",
       " 'longitude': -111.983758,\n",
       " 'name': 'Eric Goldberg, MD',\n",
       " 'neighborhoods': [],\n",
       " 'open': True,\n",
       " 'review_count': 9,\n",
       " 'stars': 3.5,\n",
       " 'state': 'AZ',\n",
       " 'type': 'business'}"
      ]
     },
     "execution_count": 50,
     "metadata": {},
     "output_type": "execute_result"
    }
   ],
   "source": [
    "businessdata[0]"
   ]
  },
  {
   "cell_type": "markdown",
   "metadata": {},
   "source": [
    "Test input data:"
   ]
  },
  {
   "cell_type": "code",
   "execution_count": 1,
   "metadata": {},
   "outputs": [],
   "source": [
    "testdatas = [\n",
    "    {\n",
    "        'attributes': {'By Appointment Only': True},\n",
    " 'business_id': 'vcNAWiLM4dR7D2nwwJ7nCA',\n",
    " 'categories': ['Doctors', 'Health & Medical'],\n",
    " 'city': 'Phoenix',\n",
    " 'full_address': '4840 E Indian School Rd\\nSte 101\\nPhoenix, AZ 85018',\n",
    " 'hours': {'Thursday': {'close': '17:00', 'open': '08:00'},\n",
    "  'Tuesday': {'close': '17:00', 'open': '08:00'},\n",
    "  'Friday': {'close': '17:00', 'open': '08:00'},\n",
    "  'Wednesday': {'close': '17:00', 'open': '08:00'},\n",
    "  'Monday': {'close': '17:00', 'open': '08:00'}},\n",
    " 'latitude': 33.499313,\n",
    " 'longitude': -111.983758,\n",
    " 'name': 'Eric Goldberg, MD',\n",
    " 'neighborhoods': [],\n",
    " 'open': True,\n",
    " 'review_count': 9,\n",
    " 'stars': 3.5,\n",
    " 'state': 'AZ',\n",
    " 'type': 'business'\n",
    "    },\n",
    "    {\n",
    "       'attributes': {'Happy Hour': True,\n",
    "  'Accepts Credit Cards': True,\n",
    "  'Good For Groups': True,\n",
    "  'Outdoor Seating': False,\n",
    "  'Price Range': 1},\n",
    " 'business_id': 'UsFtqoBl7naz8AVUBZMjQQ',\n",
    " 'categories': ['Nightlife'],\n",
    " 'city': 'Dravosburg',\n",
    " 'full_address': '202 McClure St\\nDravosburg, PA 15034',\n",
    " 'hours': {},\n",
    " 'latitude': 40.350519,\n",
    " 'longitude': -79.88693,\n",
    " 'name': \"Clancy's Pub\",\n",
    " 'neighborhoods': [],\n",
    " 'open': True,\n",
    " 'review_count': 4,\n",
    " 'stars': 3.5,\n",
    " 'state': 'PA',\n",
    " 'type': 'business'\n",
    "    },\n",
    "    {\n",
    "        'attributes': {'Good for Kids': True},\n",
    " 'business_id': 'cE27W9VPgO88Qxe4ol6y_g',\n",
    " 'categories': ['Active Life', 'Mini Golf', 'Golf'],\n",
    " 'city': 'Bethel Park',\n",
    " 'full_address': '1530 Hamilton Rd\\nBethel Park, PA 15234',\n",
    " 'hours': {},\n",
    " 'latitude': 40.3568962,\n",
    " 'longitude': -80.01591,\n",
    " 'name': 'Cool Springs Golf Center',\n",
    " 'neighborhoods': [],\n",
    " 'open': False,\n",
    " 'review_count': 5,\n",
    " 'stars': 2.5,\n",
    " 'state': 'PA',\n",
    " 'type': 'business'\n",
    "    },\n",
    "    {\n",
    "        'attributes': {},\n",
    " 'business_id': 'HZdLhv6COCleJMo7nPl-RA',\n",
    " 'categories': ['Shopping',\n",
    "  'Home Services',\n",
    "  'Internet Service Providers',\n",
    "  'Mobile Phones',\n",
    "  'Professional Services',\n",
    "  'Electronics'],\n",
    " 'city': 'Pittsburgh',\n",
    " 'full_address': '301 S Hills Vlg\\nPittsburgh, PA 15241',\n",
    " 'hours': {'Monday': {'close': '21:00', 'open': '10:00'},\n",
    "  'Tuesday': {'close': '21:00', 'open': '10:00'},\n",
    "  'Friday': {'close': '21:00', 'open': '10:00'},\n",
    "  'Wednesday': {'close': '21:00', 'open': '10:00'},\n",
    "  'Thursday': {'close': '21:00', 'open': '10:00'},\n",
    "  'Sunday': {'close': '18:00', 'open': '11:00'},\n",
    "  'Saturday': {'close': '21:00', 'open': '10:00'}},\n",
    " 'latitude': 40.35762,\n",
    " 'longitude': -80.05998,\n",
    " 'name': 'Verizon Wireless',\n",
    " 'neighborhoods': [],\n",
    " 'open': True,\n",
    " 'review_count': 3,\n",
    " 'stars': 3.5,\n",
    " 'state': 'PA',\n",
    " 'type': 'business'\n",
    "    }\n",
    "]"
   ]
  },
  {
   "cell_type": "code",
   "execution_count": 4,
   "metadata": {},
   "outputs": [],
   "source": [
    "for inputdata in testdatas:\n",
    "    es.index(index='yelp', doc_type='business', body=inputdata)"
   ]
  },
  {
   "cell_type": "code",
   "execution_count": 5,
   "metadata": {},
   "outputs": [
    {
     "name": "stdout",
     "output_type": "stream",
     "text": [
      "{'took': 4, 'timed_out': False, '_shards': {'total': 5, 'successful': 5, 'skipped': 0, 'failed': 0}, 'hits': {'total': 8, 'max_score': 1.0, 'hits': [{'_index': 'yelp', '_type': 'business', '_id': 'pYGkOWcB3cYzpFS7tkYY', '_score': 1.0, '_source': {'attributes': {'By Appointment Only': True}, 'business_id': 'vcNAWiLM4dR7D2nwwJ7nCA', 'categories': ['Doctors', 'Health & Medical'], 'city': 'Phoenix', 'full_address': '4840 E Indian School Rd\\nSte 101\\nPhoenix, AZ 85018', 'hours': {'Thursday': {'close': '17:00', 'open': '08:00'}, 'Tuesday': {'close': '17:00', 'open': '08:00'}, 'Friday': {'close': '17:00', 'open': '08:00'}, 'Wednesday': {'close': '17:00', 'open': '08:00'}, 'Monday': {'close': '17:00', 'open': '08:00'}}, 'latitude': 33.499313, 'longitude': -111.983758, 'name': 'Eric Goldberg, MD', 'neighborhoods': [], 'open': True, 'review_count': 9, 'stars': 3.5, 'state': 'AZ', 'type': 'business'}}, {'_index': 'yelp', '_type': 'business', '_id': 'rIGCOmcB3cYzpFS7eEYv', '_score': 1.0, '_source': {'attributes': {}, 'business_id': 'HZdLhv6COCleJMo7nPl-RA', 'categories': ['Shopping', 'Home Services', 'Internet Service Providers', 'Mobile Phones', 'Professional Services', 'Electronics'], 'city': 'Pittsburgh', 'full_address': '301 S Hills Vlg\\nPittsburgh, PA 15241', 'hours': {'Monday': {'close': '21:00', 'open': '10:00'}, 'Tuesday': {'close': '21:00', 'open': '10:00'}, 'Friday': {'close': '21:00', 'open': '10:00'}, 'Wednesday': {'close': '21:00', 'open': '10:00'}, 'Thursday': {'close': '21:00', 'open': '10:00'}, 'Sunday': {'close': '18:00', 'open': '11:00'}, 'Saturday': {'close': '21:00', 'open': '10:00'}}, 'latitude': 40.35762, 'longitude': -80.05998, 'name': 'Verizon Wireless', 'neighborhoods': [], 'open': True, 'review_count': 3, 'stars': 3.5, 'state': 'PA', 'type': 'business'}}, {'_index': 'yelp', '_type': 'business', '_id': 'poGkOWcB3cYzpFS7tkZn', '_score': 1.0, '_source': {'attributes': {'Happy Hour': True, 'Accepts Credit Cards': True, 'Good For Groups': True, 'Outdoor Seating': False, 'Price Range': 1}, 'business_id': 'UsFtqoBl7naz8AVUBZMjQQ', 'categories': ['Nightlife'], 'city': 'Dravosburg', 'full_address': '202 McClure St\\nDravosburg, PA 15034', 'hours': {}, 'latitude': 40.350519, 'longitude': -79.88693, 'name': \"Clancy's Pub\", 'neighborhoods': [], 'open': True, 'review_count': 4, 'stars': 3.5, 'state': 'PA', 'type': 'business'}}, {'_index': 'yelp', '_type': 'business', '_id': 'qYGCOmcB3cYzpFS7d0bl', '_score': 1.0, '_source': {'attributes': {'By Appointment Only': True}, 'business_id': 'vcNAWiLM4dR7D2nwwJ7nCA', 'categories': ['Doctors', 'Health & Medical'], 'city': 'Phoenix', 'full_address': '4840 E Indian School Rd\\nSte 101\\nPhoenix, AZ 85018', 'hours': {'Thursday': {'close': '17:00', 'open': '08:00'}, 'Tuesday': {'close': '17:00', 'open': '08:00'}, 'Friday': {'close': '17:00', 'open': '08:00'}, 'Wednesday': {'close': '17:00', 'open': '08:00'}, 'Monday': {'close': '17:00', 'open': '08:00'}}, 'latitude': 33.499313, 'longitude': -111.983758, 'name': 'Eric Goldberg, MD', 'neighborhoods': [], 'open': True, 'review_count': 9, 'stars': 3.5, 'state': 'AZ', 'type': 'business'}}, {'_index': 'yelp', '_type': 'business', '_id': 'p4GkOWcB3cYzpFS7tkaT', '_score': 1.0, '_source': {'attributes': {'Good for Kids': True}, 'business_id': 'cE27W9VPgO88Qxe4ol6y_g', 'categories': ['Active Life', 'Mini Golf', 'Golf'], 'city': 'Bethel Park', 'full_address': '1530 Hamilton Rd\\nBethel Park, PA 15234', 'hours': {}, 'latitude': 40.3568962, 'longitude': -80.01591, 'name': 'Cool Springs Golf Center', 'neighborhoods': [], 'open': False, 'review_count': 5, 'stars': 2.5, 'state': 'PA', 'type': 'business'}}, {'_index': 'yelp', '_type': 'business', '_id': 'qoGCOmcB3cYzpFS7eEYE', '_score': 1.0, '_source': {'attributes': {'Happy Hour': True, 'Accepts Credit Cards': True, 'Good For Groups': True, 'Outdoor Seating': False, 'Price Range': 1}, 'business_id': 'UsFtqoBl7naz8AVUBZMjQQ', 'categories': ['Nightlife'], 'city': 'Dravosburg', 'full_address': '202 McClure St\\nDravosburg, PA 15034', 'hours': {}, 'latitude': 40.350519, 'longitude': -79.88693, 'name': \"Clancy's Pub\", 'neighborhoods': [], 'open': True, 'review_count': 4, 'stars': 3.5, 'state': 'PA', 'type': 'business'}}, {'_index': 'yelp', '_type': 'business', '_id': 'q4GCOmcB3cYzpFS7eEYd', '_score': 1.0, '_source': {'attributes': {'Good for Kids': True}, 'business_id': 'cE27W9VPgO88Qxe4ol6y_g', 'categories': ['Active Life', 'Mini Golf', 'Golf'], 'city': 'Bethel Park', 'full_address': '1530 Hamilton Rd\\nBethel Park, PA 15234', 'hours': {}, 'latitude': 40.3568962, 'longitude': -80.01591, 'name': 'Cool Springs Golf Center', 'neighborhoods': [], 'open': False, 'review_count': 5, 'stars': 2.5, 'state': 'PA', 'type': 'business'}}, {'_index': 'yelp', '_type': 'business', '_id': 'qIGkOWcB3cYzpFS7tka2', '_score': 1.0, '_source': {'attributes': {}, 'business_id': 'HZdLhv6COCleJMo7nPl-RA', 'categories': ['Shopping', 'Home Services', 'Internet Service Providers', 'Mobile Phones', 'Professional Services', 'Electronics'], 'city': 'Pittsburgh', 'full_address': '301 S Hills Vlg\\nPittsburgh, PA 15241', 'hours': {'Monday': {'close': '21:00', 'open': '10:00'}, 'Tuesday': {'close': '21:00', 'open': '10:00'}, 'Friday': {'close': '21:00', 'open': '10:00'}, 'Wednesday': {'close': '21:00', 'open': '10:00'}, 'Thursday': {'close': '21:00', 'open': '10:00'}, 'Sunday': {'close': '18:00', 'open': '11:00'}, 'Saturday': {'close': '21:00', 'open': '10:00'}}, 'latitude': 40.35762, 'longitude': -80.05998, 'name': 'Verizon Wireless', 'neighborhoods': [], 'open': True, 'review_count': 3, 'stars': 3.5, 'state': 'PA', 'type': 'business'}}]}}\n"
     ]
    }
   ],
   "source": [
    "result = es.search(index='yelp', doc_type='business')\n",
    "print(result)"
   ]
  },
  {
   "cell_type": "code",
   "execution_count": null,
   "metadata": {},
   "outputs": [],
   "source": [
    "import json\n",
    "\n",
    "row = ['attributes', 'business_id', 'categories', 'city', 'full_address','hours', 'latitude', 'longitude', 'name', 'neighborhoods', 'open','review_count', 'stars', 'state', 'type']\n",
    "\n",
    "i = 0\n",
    "for row in businessdata:\n",
    "    result=es.create(index='yelp', doc_type='business', id=i, body=businessdata)\n",
    "    i += 1\n",
    "    if i % 61184 == 0:\n",
    "        print(i, 'records have been uploaded')\n",
    "print(table, 'data finished!!!')\n",
    "\n",
    "\n",
    "#i = 0\n",
    "#for line in businessdata:\n",
    "#    result=es.create(index='yelp', doc_type='business', id=i, body=json.loads(line))\n",
    "#    i += 1\n",
    "#    if i % 5000 == 0:\n",
    "#        print(i, 'records have been uploaded')\n",
    "#print(table, 'data finished!!!')\n",
    "\n",
    "#for inputdata in businessdata:\n",
    "#    es.index(index='yelp', doc_type='business', body=inputdata)"
   ]
  },
  {
   "cell_type": "code",
   "execution_count": null,
   "metadata": {},
   "outputs": [],
   "source": [
    "#from elasticsearch import Elasticsearch \n",
    "#es = Elasticsearch()\n",
    "\n",
    "#from tqdm import tqdm \n",
    "#import json\n",
    "\n",
    "#tables = ['business','checkin','photo','review','tip','user']\n",
    "#for table in tqdm(tables):\n",
    "#    data = []\n",
    "#    _ = es.indices.create(index='yelp_'+table , ignore=400)\n",
    "#    with open('/Users/UID/BIGDATA/Yelp Analysis/yelp_academic_dataset_business.pickle'.format(table), encoding='utf-8') as f:\n",
    "#        i = 0\n",
    "#        for line in f:\n",
    "#            result=es.create(index='yelp_'+table,doc_type=table,id=i,body=json.loads(line))\n",
    "#            i += 1\n",
    "#            if i % 5000 == 0:\n",
    "#                print(i, 'records have been uploaded')\n",
    "#    print(table, 'data finished!!!')"
   ]
  },
  {
   "cell_type": "code",
   "execution_count": 51,
   "metadata": {},
   "outputs": [
    {
     "data": {
      "text/plain": [
       "61184"
      ]
     },
     "execution_count": 51,
     "metadata": {},
     "output_type": "execute_result"
    }
   ],
   "source": [
    "#len(businessdata)"
   ]
  },
  {
   "cell_type": "code",
   "execution_count": null,
   "metadata": {},
   "outputs": [],
   "source": []
  }
 ],
 "metadata": {
  "kernelspec": {
   "display_name": "Python 3",
   "language": "python",
   "name": "python3"
  },
  "language_info": {
   "codemirror_mode": {
    "name": "ipython",
    "version": 3
   },
   "file_extension": ".py",
   "mimetype": "text/x-python",
   "name": "python",
   "nbconvert_exporter": "python",
   "pygments_lexer": "ipython3",
   "version": "3.6.5"
  }
 },
 "nbformat": 4,
 "nbformat_minor": 2
}
