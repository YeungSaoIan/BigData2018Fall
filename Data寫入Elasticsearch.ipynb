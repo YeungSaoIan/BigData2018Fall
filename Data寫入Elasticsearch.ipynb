{
 "cells": [
  {
   "cell_type": "markdown",
   "metadata": {},
   "source": [
    "引用Library"
   ]
  },
  {
   "cell_type": "code",
   "execution_count": 7,
   "metadata": {},
   "outputs": [],
   "source": [
    "import os\n",
    "import urllib.request\n",
    "import pandas as pd\n",
    "from elasticsearch import Elasticsearch\n",
    "\n",
    "es = Elasticsearch()"
   ]
  },
  {
   "cell_type": "markdown",
   "metadata": {},
   "source": [
    "建立資料庫"
   ]
  },
  {
   "cell_type": "code",
   "execution_count": 10,
   "metadata": {},
   "outputs": [
    {
     "name": "stdout",
     "output_type": "stream",
     "text": [
      "{'acknowledged': True, 'shards_acknowledged': True, 'index': 'yelp'}\n"
     ]
    }
   ],
   "source": [
    "result = es.indices.create(index='yelp', ignore=400)\n",
    "print(result)"
   ]
  },
  {
   "cell_type": "markdown",
   "metadata": {},
   "source": [
    "讀取pickle進pandas"
   ]
  },
  {
   "cell_type": "code",
   "execution_count": 8,
   "metadata": {},
   "outputs": [
    {
     "data": {
      "text/plain": [
       "Index(['attributes', 'business_id', 'categories', 'city', 'full_address',\n",
       "       'hours', 'latitude', 'longitude', 'name', 'neighborhoods', 'open',\n",
       "       'review_count', 'stars', 'state', 'type'],\n",
       "      dtype='object')"
      ]
     },
     "execution_count": 8,
     "metadata": {},
     "output_type": "execute_result"
    }
   ],
   "source": [
    "yelpbusiness = pd.read_pickle('/Users/Angel/Documents/Yelp_Analysis/yelp_academic_dataset_business.pickle')\n",
    "out = yelpbusiness .to_json(orient='records')[1:-1].replace('},{', '} {')\n",
    "businessdata = []\n",
    "for i in yelpbusiness.index:\n",
    "    d = {}\n",
    "    for j in yelpbusiness.columns:\n",
    "        d[j] = yelpbusiness[j][i]\n",
    "    businessdata.append(d)\n",
    "len(businessdata)\n",
    "yelpbusiness.columns"
   ]
  },
  {
   "cell_type": "code",
   "execution_count": 18,
   "metadata": {},
   "outputs": [
    {
     "data": {
      "text/plain": [
       "{'attributes': {'By Appointment Only': True},\n",
       " 'business_id': 'vcNAWiLM4dR7D2nwwJ7nCA',\n",
       " 'categories': ['Doctors', 'Health & Medical'],\n",
       " 'city': 'Phoenix',\n",
       " 'full_address': '4840 E Indian School Rd\\nSte 101\\nPhoenix, AZ 85018',\n",
       " 'hours': {'Thursday': {'close': '17:00', 'open': '08:00'},\n",
       "  'Tuesday': {'close': '17:00', 'open': '08:00'},\n",
       "  'Friday': {'close': '17:00', 'open': '08:00'},\n",
       "  'Wednesday': {'close': '17:00', 'open': '08:00'},\n",
       "  'Monday': {'close': '17:00', 'open': '08:00'}},\n",
       " 'latitude': 33.499313,\n",
       " 'longitude': -111.983758,\n",
       " 'name': 'Eric Goldberg, MD',\n",
       " 'neighborhoods': [],\n",
       " 'open': True,\n",
       " 'review_count': 9,\n",
       " 'stars': 3.5,\n",
       " 'state': 'AZ',\n",
       " 'type': 'business'}"
      ]
     },
     "execution_count": 18,
     "metadata": {},
     "output_type": "execute_result"
    }
   ],
   "source": [
    "businessdata[0]"
   ]
  },
  {
   "cell_type": "markdown",
   "metadata": {},
   "source": [
    "Test input data:"
   ]
  },
  {
   "cell_type": "code",
   "execution_count": 1,
   "metadata": {},
   "outputs": [],
   "source": [
    "testdatas = [\n",
    "    {\n",
    "        'attributes': {'By Appointment Only': True},\n",
    " 'business_id': 'vcNAWiLM4dR7D2nwwJ7nCA',\n",
    " 'categories': ['Doctors', 'Health & Medical'],\n",
    " 'city': 'Phoenix',\n",
    " 'full_address': '4840 E Indian School Rd\\nSte 101\\nPhoenix, AZ 85018',\n",
    " 'hours': {'Thursday': {'close': '17:00', 'open': '08:00'},\n",
    "  'Tuesday': {'close': '17:00', 'open': '08:00'},\n",
    "  'Friday': {'close': '17:00', 'open': '08:00'},\n",
    "  'Wednesday': {'close': '17:00', 'open': '08:00'},\n",
    "  'Monday': {'close': '17:00', 'open': '08:00'}},\n",
    " 'latitude': 33.499313,\n",
    " 'longitude': -111.983758,\n",
    " 'name': 'Eric Goldberg, MD',\n",
    " 'neighborhoods': [],\n",
    " 'open': True,\n",
    " 'review_count': 9,\n",
    " 'stars': 3.5,\n",
    " 'state': 'AZ',\n",
    " 'type': 'business'\n",
    "    },\n",
    "    {\n",
    "       'attributes': {'Happy Hour': True,\n",
    "  'Accepts Credit Cards': True,\n",
    "  'Good For Groups': True,\n",
    "  'Outdoor Seating': False,\n",
    "  'Price Range': 1},\n",
    " 'business_id': 'UsFtqoBl7naz8AVUBZMjQQ',\n",
    " 'categories': ['Nightlife'],\n",
    " 'city': 'Dravosburg',\n",
    " 'full_address': '202 McClure St\\nDravosburg, PA 15034',\n",
    " 'hours': {},\n",
    " 'latitude': 40.350519,\n",
    " 'longitude': -79.88693,\n",
    " 'name': \"Clancy's Pub\",\n",
    " 'neighborhoods': [],\n",
    " 'open': True,\n",
    " 'review_count': 4,\n",
    " 'stars': 3.5,\n",
    " 'state': 'PA',\n",
    " 'type': 'business'\n",
    "    },\n",
    "    {\n",
    "        'attributes': {'Good for Kids': True},\n",
    " 'business_id': 'cE27W9VPgO88Qxe4ol6y_g',\n",
    " 'categories': ['Active Life', 'Mini Golf', 'Golf'],\n",
    " 'city': 'Bethel Park',\n",
    " 'full_address': '1530 Hamilton Rd\\nBethel Park, PA 15234',\n",
    " 'hours': {},\n",
    " 'latitude': 40.3568962,\n",
    " 'longitude': -80.01591,\n",
    " 'name': 'Cool Springs Golf Center',\n",
    " 'neighborhoods': [],\n",
    " 'open': False,\n",
    " 'review_count': 5,\n",
    " 'stars': 2.5,\n",
    " 'state': 'PA',\n",
    " 'type': 'business'\n",
    "    },\n",
    "    {\n",
    "        'attributes': {},\n",
    " 'business_id': 'HZdLhv6COCleJMo7nPl-RA',\n",
    " 'categories': ['Shopping',\n",
    "  'Home Services',\n",
    "  'Internet Service Providers',\n",
    "  'Mobile Phones',\n",
    "  'Professional Services',\n",
    "  'Electronics'],\n",
    " 'city': 'Pittsburgh',\n",
    " 'full_address': '301 S Hills Vlg\\nPittsburgh, PA 15241',\n",
    " 'hours': {'Monday': {'close': '21:00', 'open': '10:00'},\n",
    "  'Tuesday': {'close': '21:00', 'open': '10:00'},\n",
    "  'Friday': {'close': '21:00', 'open': '10:00'},\n",
    "  'Wednesday': {'close': '21:00', 'open': '10:00'},\n",
    "  'Thursday': {'close': '21:00', 'open': '10:00'},\n",
    "  'Sunday': {'close': '18:00', 'open': '11:00'},\n",
    "  'Saturday': {'close': '21:00', 'open': '10:00'}},\n",
    " 'latitude': 40.35762,\n",
    " 'longitude': -80.05998,\n",
    " 'name': 'Verizon Wireless',\n",
    " 'neighborhoods': [],\n",
    " 'open': True,\n",
    " 'review_count': 3,\n",
    " 'stars': 3.5,\n",
    " 'state': 'PA',\n",
    " 'type': 'business'\n",
    "    }\n",
    "]"
   ]
  },
  {
   "cell_type": "code",
   "execution_count": 4,
   "metadata": {},
   "outputs": [],
   "source": [
    "for inputdata in testdatas:\n",
    "    es.index(index='yelp', doc_type='business', body=inputdata)"
   ]
  },
  {
   "cell_type": "code",
   "execution_count": 5,
   "metadata": {},
   "outputs": [
    {
     "name": "stdout",
     "output_type": "stream",
     "text": [
      "{'took': 4, 'timed_out': False, '_shards': {'total': 5, 'successful': 5, 'skipped': 0, 'failed': 0}, 'hits': {'total': 8, 'max_score': 1.0, 'hits': [{'_index': 'yelp', '_type': 'business', '_id': 'pYGkOWcB3cYzpFS7tkYY', '_score': 1.0, '_source': {'attributes': {'By Appointment Only': True}, 'business_id': 'vcNAWiLM4dR7D2nwwJ7nCA', 'categories': ['Doctors', 'Health & Medical'], 'city': 'Phoenix', 'full_address': '4840 E Indian School Rd\\nSte 101\\nPhoenix, AZ 85018', 'hours': {'Thursday': {'close': '17:00', 'open': '08:00'}, 'Tuesday': {'close': '17:00', 'open': '08:00'}, 'Friday': {'close': '17:00', 'open': '08:00'}, 'Wednesday': {'close': '17:00', 'open': '08:00'}, 'Monday': {'close': '17:00', 'open': '08:00'}}, 'latitude': 33.499313, 'longitude': -111.983758, 'name': 'Eric Goldberg, MD', 'neighborhoods': [], 'open': True, 'review_count': 9, 'stars': 3.5, 'state': 'AZ', 'type': 'business'}}, {'_index': 'yelp', '_type': 'business', '_id': 'rIGCOmcB3cYzpFS7eEYv', '_score': 1.0, '_source': {'attributes': {}, 'business_id': 'HZdLhv6COCleJMo7nPl-RA', 'categories': ['Shopping', 'Home Services', 'Internet Service Providers', 'Mobile Phones', 'Professional Services', 'Electronics'], 'city': 'Pittsburgh', 'full_address': '301 S Hills Vlg\\nPittsburgh, PA 15241', 'hours': {'Monday': {'close': '21:00', 'open': '10:00'}, 'Tuesday': {'close': '21:00', 'open': '10:00'}, 'Friday': {'close': '21:00', 'open': '10:00'}, 'Wednesday': {'close': '21:00', 'open': '10:00'}, 'Thursday': {'close': '21:00', 'open': '10:00'}, 'Sunday': {'close': '18:00', 'open': '11:00'}, 'Saturday': {'close': '21:00', 'open': '10:00'}}, 'latitude': 40.35762, 'longitude': -80.05998, 'name': 'Verizon Wireless', 'neighborhoods': [], 'open': True, 'review_count': 3, 'stars': 3.5, 'state': 'PA', 'type': 'business'}}, {'_index': 'yelp', '_type': 'business', '_id': 'poGkOWcB3cYzpFS7tkZn', '_score': 1.0, '_source': {'attributes': {'Happy Hour': True, 'Accepts Credit Cards': True, 'Good For Groups': True, 'Outdoor Seating': False, 'Price Range': 1}, 'business_id': 'UsFtqoBl7naz8AVUBZMjQQ', 'categories': ['Nightlife'], 'city': 'Dravosburg', 'full_address': '202 McClure St\\nDravosburg, PA 15034', 'hours': {}, 'latitude': 40.350519, 'longitude': -79.88693, 'name': \"Clancy's Pub\", 'neighborhoods': [], 'open': True, 'review_count': 4, 'stars': 3.5, 'state': 'PA', 'type': 'business'}}, {'_index': 'yelp', '_type': 'business', '_id': 'qYGCOmcB3cYzpFS7d0bl', '_score': 1.0, '_source': {'attributes': {'By Appointment Only': True}, 'business_id': 'vcNAWiLM4dR7D2nwwJ7nCA', 'categories': ['Doctors', 'Health & Medical'], 'city': 'Phoenix', 'full_address': '4840 E Indian School Rd\\nSte 101\\nPhoenix, AZ 85018', 'hours': {'Thursday': {'close': '17:00', 'open': '08:00'}, 'Tuesday': {'close': '17:00', 'open': '08:00'}, 'Friday': {'close': '17:00', 'open': '08:00'}, 'Wednesday': {'close': '17:00', 'open': '08:00'}, 'Monday': {'close': '17:00', 'open': '08:00'}}, 'latitude': 33.499313, 'longitude': -111.983758, 'name': 'Eric Goldberg, MD', 'neighborhoods': [], 'open': True, 'review_count': 9, 'stars': 3.5, 'state': 'AZ', 'type': 'business'}}, {'_index': 'yelp', '_type': 'business', '_id': 'p4GkOWcB3cYzpFS7tkaT', '_score': 1.0, '_source': {'attributes': {'Good for Kids': True}, 'business_id': 'cE27W9VPgO88Qxe4ol6y_g', 'categories': ['Active Life', 'Mini Golf', 'Golf'], 'city': 'Bethel Park', 'full_address': '1530 Hamilton Rd\\nBethel Park, PA 15234', 'hours': {}, 'latitude': 40.3568962, 'longitude': -80.01591, 'name': 'Cool Springs Golf Center', 'neighborhoods': [], 'open': False, 'review_count': 5, 'stars': 2.5, 'state': 'PA', 'type': 'business'}}, {'_index': 'yelp', '_type': 'business', '_id': 'qoGCOmcB3cYzpFS7eEYE', '_score': 1.0, '_source': {'attributes': {'Happy Hour': True, 'Accepts Credit Cards': True, 'Good For Groups': True, 'Outdoor Seating': False, 'Price Range': 1}, 'business_id': 'UsFtqoBl7naz8AVUBZMjQQ', 'categories': ['Nightlife'], 'city': 'Dravosburg', 'full_address': '202 McClure St\\nDravosburg, PA 15034', 'hours': {}, 'latitude': 40.350519, 'longitude': -79.88693, 'name': \"Clancy's Pub\", 'neighborhoods': [], 'open': True, 'review_count': 4, 'stars': 3.5, 'state': 'PA', 'type': 'business'}}, {'_index': 'yelp', '_type': 'business', '_id': 'q4GCOmcB3cYzpFS7eEYd', '_score': 1.0, '_source': {'attributes': {'Good for Kids': True}, 'business_id': 'cE27W9VPgO88Qxe4ol6y_g', 'categories': ['Active Life', 'Mini Golf', 'Golf'], 'city': 'Bethel Park', 'full_address': '1530 Hamilton Rd\\nBethel Park, PA 15234', 'hours': {}, 'latitude': 40.3568962, 'longitude': -80.01591, 'name': 'Cool Springs Golf Center', 'neighborhoods': [], 'open': False, 'review_count': 5, 'stars': 2.5, 'state': 'PA', 'type': 'business'}}, {'_index': 'yelp', '_type': 'business', '_id': 'qIGkOWcB3cYzpFS7tka2', '_score': 1.0, '_source': {'attributes': {}, 'business_id': 'HZdLhv6COCleJMo7nPl-RA', 'categories': ['Shopping', 'Home Services', 'Internet Service Providers', 'Mobile Phones', 'Professional Services', 'Electronics'], 'city': 'Pittsburgh', 'full_address': '301 S Hills Vlg\\nPittsburgh, PA 15241', 'hours': {'Monday': {'close': '21:00', 'open': '10:00'}, 'Tuesday': {'close': '21:00', 'open': '10:00'}, 'Friday': {'close': '21:00', 'open': '10:00'}, 'Wednesday': {'close': '21:00', 'open': '10:00'}, 'Thursday': {'close': '21:00', 'open': '10:00'}, 'Sunday': {'close': '18:00', 'open': '11:00'}, 'Saturday': {'close': '21:00', 'open': '10:00'}}, 'latitude': 40.35762, 'longitude': -80.05998, 'name': 'Verizon Wireless', 'neighborhoods': [], 'open': True, 'review_count': 3, 'stars': 3.5, 'state': 'PA', 'type': 'business'}}]}}\n"
     ]
    }
   ],
   "source": [
    "result = es.search(index='yelp', doc_type='business')\n",
    "print(result)"
   ]
  },
  {
   "cell_type": "code",
   "execution_count": 30,
   "metadata": {},
   "outputs": [
    {
     "ename": "SerializationError",
     "evalue": "({'attributes': {'By Appointment Only': True}, 'business_id': 'vcNAWiLM4dR7D2nwwJ7nCA', 'categories': ['Doctors', 'Health & Medical'], 'city': 'Phoenix', 'full_address': '4840 E Indian School Rd\\nSte 101\\nPhoenix, AZ 85018', 'hours': {'Thursday': {'close': '17:00', 'open': '08:00'}, 'Tuesday': {'close': '17:00', 'open': '08:00'}, 'Friday': {'close': '17:00', 'open': '08:00'}, 'Wednesday': {'close': '17:00', 'open': '08:00'}, 'Monday': {'close': '17:00', 'open': '08:00'}}, 'latitude': 33.499313, 'longitude': -111.983758, 'name': 'Eric Goldberg, MD', 'neighborhoods': [], 'open': True, 'review_count': 9, 'stars': 3.5, 'state': 'AZ', 'type': 'business'}, TypeError(\"Unable to serialize True (type: <class 'numpy.bool_'>)\",))",
     "output_type": "error",
     "traceback": [
      "\u001b[0;31m---------------------------------------------------------------------------\u001b[0m",
      "\u001b[0;31mTypeError\u001b[0m                                 Traceback (most recent call last)",
      "\u001b[0;32m~/anaconda3/lib/python3.6/site-packages/elasticsearch/serializer.py\u001b[0m in \u001b[0;36mdumps\u001b[0;34m(self, data)\u001b[0m\n\u001b[1;32m     51\u001b[0m                 \u001b[0mensure_ascii\u001b[0m\u001b[0;34m=\u001b[0m\u001b[0;32mFalse\u001b[0m\u001b[0;34m,\u001b[0m\u001b[0;34m\u001b[0m\u001b[0m\n\u001b[0;32m---> 52\u001b[0;31m                 \u001b[0mseparators\u001b[0m\u001b[0;34m=\u001b[0m\u001b[0;34m(\u001b[0m\u001b[0;34m','\u001b[0m\u001b[0;34m,\u001b[0m \u001b[0;34m':'\u001b[0m\u001b[0;34m)\u001b[0m\u001b[0;34m,\u001b[0m\u001b[0;34m\u001b[0m\u001b[0m\n\u001b[0m\u001b[1;32m     53\u001b[0m             )\n",
      "\u001b[0;32m~/anaconda3/lib/python3.6/json/__init__.py\u001b[0m in \u001b[0;36mdumps\u001b[0;34m(obj, skipkeys, ensure_ascii, check_circular, allow_nan, cls, indent, separators, default, sort_keys, **kw)\u001b[0m\n\u001b[1;32m    237\u001b[0m         \u001b[0mseparators\u001b[0m\u001b[0;34m=\u001b[0m\u001b[0mseparators\u001b[0m\u001b[0;34m,\u001b[0m \u001b[0mdefault\u001b[0m\u001b[0;34m=\u001b[0m\u001b[0mdefault\u001b[0m\u001b[0;34m,\u001b[0m \u001b[0msort_keys\u001b[0m\u001b[0;34m=\u001b[0m\u001b[0msort_keys\u001b[0m\u001b[0;34m,\u001b[0m\u001b[0;34m\u001b[0m\u001b[0m\n\u001b[0;32m--> 238\u001b[0;31m         **kw).encode(obj)\n\u001b[0m\u001b[1;32m    239\u001b[0m \u001b[0;34m\u001b[0m\u001b[0m\n",
      "\u001b[0;32m~/anaconda3/lib/python3.6/json/encoder.py\u001b[0m in \u001b[0;36mencode\u001b[0;34m(self, o)\u001b[0m\n\u001b[1;32m    198\u001b[0m         \u001b[0;31m# equivalent to the PySequence_Fast that ''.join() would do.\u001b[0m\u001b[0;34m\u001b[0m\u001b[0;34m\u001b[0m\u001b[0m\n\u001b[0;32m--> 199\u001b[0;31m         \u001b[0mchunks\u001b[0m \u001b[0;34m=\u001b[0m \u001b[0mself\u001b[0m\u001b[0;34m.\u001b[0m\u001b[0miterencode\u001b[0m\u001b[0;34m(\u001b[0m\u001b[0mo\u001b[0m\u001b[0;34m,\u001b[0m \u001b[0m_one_shot\u001b[0m\u001b[0;34m=\u001b[0m\u001b[0;32mTrue\u001b[0m\u001b[0;34m)\u001b[0m\u001b[0;34m\u001b[0m\u001b[0m\n\u001b[0m\u001b[1;32m    200\u001b[0m         \u001b[0;32mif\u001b[0m \u001b[0;32mnot\u001b[0m \u001b[0misinstance\u001b[0m\u001b[0;34m(\u001b[0m\u001b[0mchunks\u001b[0m\u001b[0;34m,\u001b[0m \u001b[0;34m(\u001b[0m\u001b[0mlist\u001b[0m\u001b[0;34m,\u001b[0m \u001b[0mtuple\u001b[0m\u001b[0;34m)\u001b[0m\u001b[0;34m)\u001b[0m\u001b[0;34m:\u001b[0m\u001b[0;34m\u001b[0m\u001b[0m\n",
      "\u001b[0;32m~/anaconda3/lib/python3.6/json/encoder.py\u001b[0m in \u001b[0;36miterencode\u001b[0;34m(self, o, _one_shot)\u001b[0m\n\u001b[1;32m    256\u001b[0m                 self.skipkeys, _one_shot)\n\u001b[0;32m--> 257\u001b[0;31m         \u001b[0;32mreturn\u001b[0m \u001b[0m_iterencode\u001b[0m\u001b[0;34m(\u001b[0m\u001b[0mo\u001b[0m\u001b[0;34m,\u001b[0m \u001b[0;36m0\u001b[0m\u001b[0;34m)\u001b[0m\u001b[0;34m\u001b[0m\u001b[0m\n\u001b[0m\u001b[1;32m    258\u001b[0m \u001b[0;34m\u001b[0m\u001b[0m\n",
      "\u001b[0;32m~/anaconda3/lib/python3.6/site-packages/elasticsearch/serializer.py\u001b[0m in \u001b[0;36mdefault\u001b[0;34m(self, data)\u001b[0m\n\u001b[1;32m     33\u001b[0m             \u001b[0;32mreturn\u001b[0m \u001b[0mstr\u001b[0m\u001b[0;34m(\u001b[0m\u001b[0mdata\u001b[0m\u001b[0;34m)\u001b[0m\u001b[0;34m\u001b[0m\u001b[0m\n\u001b[0;32m---> 34\u001b[0;31m         \u001b[0;32mraise\u001b[0m \u001b[0mTypeError\u001b[0m\u001b[0;34m(\u001b[0m\u001b[0;34m\"Unable to serialize %r (type: %s)\"\u001b[0m \u001b[0;34m%\u001b[0m \u001b[0;34m(\u001b[0m\u001b[0mdata\u001b[0m\u001b[0;34m,\u001b[0m \u001b[0mtype\u001b[0m\u001b[0;34m(\u001b[0m\u001b[0mdata\u001b[0m\u001b[0;34m)\u001b[0m\u001b[0;34m)\u001b[0m\u001b[0;34m)\u001b[0m\u001b[0;34m\u001b[0m\u001b[0m\n\u001b[0m\u001b[1;32m     35\u001b[0m \u001b[0;34m\u001b[0m\u001b[0m\n",
      "\u001b[0;31mTypeError\u001b[0m: Unable to serialize True (type: <class 'numpy.bool_'>)",
      "\nDuring handling of the above exception, another exception occurred:\n",
      "\u001b[0;31mSerializationError\u001b[0m                        Traceback (most recent call last)",
      "\u001b[0;32m<ipython-input-30-c428aa44b8a9>\u001b[0m in \u001b[0;36m<module>\u001b[0;34m()\u001b[0m\n\u001b[1;32m      8\u001b[0m \u001b[0;32mfor\u001b[0m \u001b[0mi\u001b[0m \u001b[0;32min\u001b[0m \u001b[0mrange\u001b[0m\u001b[0;34m(\u001b[0m\u001b[0;36m0\u001b[0m\u001b[0;34m,\u001b[0m \u001b[0;36m1\u001b[0m\u001b[0;34m)\u001b[0m\u001b[0;34m:\u001b[0m\u001b[0;34m\u001b[0m\u001b[0m\n\u001b[1;32m      9\u001b[0m     \u001b[0mtemp\u001b[0m \u001b[0;34m=\u001b[0m \u001b[0mbusinessdata\u001b[0m\u001b[0;34m[\u001b[0m\u001b[0mi\u001b[0m\u001b[0;34m]\u001b[0m\u001b[0;34m\u001b[0m\u001b[0m\n\u001b[0;32m---> 10\u001b[0;31m     \u001b[0mes\u001b[0m\u001b[0;34m.\u001b[0m\u001b[0mcreate\u001b[0m\u001b[0;34m(\u001b[0m\u001b[0mindex\u001b[0m\u001b[0;34m=\u001b[0m\u001b[0;34m'yelp'\u001b[0m\u001b[0;34m,\u001b[0m \u001b[0mdoc_type\u001b[0m\u001b[0;34m=\u001b[0m\u001b[0;34m'business'\u001b[0m\u001b[0;34m,\u001b[0m \u001b[0mid\u001b[0m\u001b[0;34m=\u001b[0m\u001b[0mi\u001b[0m\u001b[0;34m,\u001b[0m \u001b[0mbody\u001b[0m\u001b[0;34m=\u001b[0m\u001b[0mtemp\u001b[0m\u001b[0;34m)\u001b[0m\u001b[0;34m\u001b[0m\u001b[0m\n\u001b[0m\u001b[1;32m     11\u001b[0m     \u001b[0mprint\u001b[0m\u001b[0;34m(\u001b[0m\u001b[0mi\u001b[0m\u001b[0;34m,\u001b[0m \u001b[0;34m'records have been uploaded'\u001b[0m\u001b[0;34m)\u001b[0m\u001b[0;34m\u001b[0m\u001b[0m\n\u001b[1;32m     12\u001b[0m \u001b[0mprint\u001b[0m\u001b[0;34m(\u001b[0m\u001b[0mi\u001b[0m\u001b[0;34m,\u001b[0m \u001b[0;34m'data finished!!!'\u001b[0m\u001b[0;34m)\u001b[0m\u001b[0;34m\u001b[0m\u001b[0m\n",
      "\u001b[0;32m~/anaconda3/lib/python3.6/site-packages/elasticsearch/client/utils.py\u001b[0m in \u001b[0;36m_wrapped\u001b[0;34m(*args, **kwargs)\u001b[0m\n\u001b[1;32m     74\u001b[0m                 \u001b[0;32mif\u001b[0m \u001b[0mp\u001b[0m \u001b[0;32min\u001b[0m \u001b[0mkwargs\u001b[0m\u001b[0;34m:\u001b[0m\u001b[0;34m\u001b[0m\u001b[0m\n\u001b[1;32m     75\u001b[0m                     \u001b[0mparams\u001b[0m\u001b[0;34m[\u001b[0m\u001b[0mp\u001b[0m\u001b[0;34m]\u001b[0m \u001b[0;34m=\u001b[0m \u001b[0mkwargs\u001b[0m\u001b[0;34m.\u001b[0m\u001b[0mpop\u001b[0m\u001b[0;34m(\u001b[0m\u001b[0mp\u001b[0m\u001b[0;34m)\u001b[0m\u001b[0;34m\u001b[0m\u001b[0m\n\u001b[0;32m---> 76\u001b[0;31m             \u001b[0;32mreturn\u001b[0m \u001b[0mfunc\u001b[0m\u001b[0;34m(\u001b[0m\u001b[0;34m*\u001b[0m\u001b[0margs\u001b[0m\u001b[0;34m,\u001b[0m \u001b[0mparams\u001b[0m\u001b[0;34m=\u001b[0m\u001b[0mparams\u001b[0m\u001b[0;34m,\u001b[0m \u001b[0;34m**\u001b[0m\u001b[0mkwargs\u001b[0m\u001b[0;34m)\u001b[0m\u001b[0;34m\u001b[0m\u001b[0m\n\u001b[0m\u001b[1;32m     77\u001b[0m         \u001b[0;32mreturn\u001b[0m \u001b[0m_wrapped\u001b[0m\u001b[0;34m\u001b[0m\u001b[0m\n\u001b[1;32m     78\u001b[0m     \u001b[0;32mreturn\u001b[0m \u001b[0m_wrapper\u001b[0m\u001b[0;34m\u001b[0m\u001b[0m\n",
      "\u001b[0;32m~/anaconda3/lib/python3.6/site-packages/elasticsearch/client/__init__.py\u001b[0m in \u001b[0;36mcreate\u001b[0;34m(self, index, doc_type, id, body, params)\u001b[0m\n\u001b[1;32m    277\u001b[0m                 \u001b[0;32mraise\u001b[0m \u001b[0mValueError\u001b[0m\u001b[0;34m(\u001b[0m\u001b[0;34m\"Empty value passed for a required argument.\"\u001b[0m\u001b[0;34m)\u001b[0m\u001b[0;34m\u001b[0m\u001b[0m\n\u001b[1;32m    278\u001b[0m         return self.transport.perform_request('PUT', _make_path(index, doc_type,\n\u001b[0;32m--> 279\u001b[0;31m             id, '_create'), params=params, body=body)\n\u001b[0m\u001b[1;32m    280\u001b[0m \u001b[0;34m\u001b[0m\u001b[0m\n\u001b[1;32m    281\u001b[0m     @query_params('op_type', 'parent', 'pipeline', 'refresh', 'routing',\n",
      "\u001b[0;32m~/anaconda3/lib/python3.6/site-packages/elasticsearch/transport.py\u001b[0m in \u001b[0;36mperform_request\u001b[0;34m(self, method, url, headers, params, body)\u001b[0m\n\u001b[1;32m    278\u001b[0m         \"\"\"\n\u001b[1;32m    279\u001b[0m         \u001b[0;32mif\u001b[0m \u001b[0mbody\u001b[0m \u001b[0;32mis\u001b[0m \u001b[0;32mnot\u001b[0m \u001b[0;32mNone\u001b[0m\u001b[0;34m:\u001b[0m\u001b[0;34m\u001b[0m\u001b[0m\n\u001b[0;32m--> 280\u001b[0;31m             \u001b[0mbody\u001b[0m \u001b[0;34m=\u001b[0m \u001b[0mself\u001b[0m\u001b[0;34m.\u001b[0m\u001b[0mserializer\u001b[0m\u001b[0;34m.\u001b[0m\u001b[0mdumps\u001b[0m\u001b[0;34m(\u001b[0m\u001b[0mbody\u001b[0m\u001b[0;34m)\u001b[0m\u001b[0;34m\u001b[0m\u001b[0m\n\u001b[0m\u001b[1;32m    281\u001b[0m \u001b[0;34m\u001b[0m\u001b[0m\n\u001b[1;32m    282\u001b[0m             \u001b[0;31m# some clients or environments don't support sending GET with body\u001b[0m\u001b[0;34m\u001b[0m\u001b[0;34m\u001b[0m\u001b[0m\n",
      "\u001b[0;32m~/anaconda3/lib/python3.6/site-packages/elasticsearch/serializer.py\u001b[0m in \u001b[0;36mdumps\u001b[0;34m(self, data)\u001b[0m\n\u001b[1;32m     53\u001b[0m             )\n\u001b[1;32m     54\u001b[0m         \u001b[0;32mexcept\u001b[0m \u001b[0;34m(\u001b[0m\u001b[0mValueError\u001b[0m\u001b[0;34m,\u001b[0m \u001b[0mTypeError\u001b[0m\u001b[0;34m)\u001b[0m \u001b[0;32mas\u001b[0m \u001b[0me\u001b[0m\u001b[0;34m:\u001b[0m\u001b[0;34m\u001b[0m\u001b[0m\n\u001b[0;32m---> 55\u001b[0;31m             \u001b[0;32mraise\u001b[0m \u001b[0mSerializationError\u001b[0m\u001b[0;34m(\u001b[0m\u001b[0mdata\u001b[0m\u001b[0;34m,\u001b[0m \u001b[0me\u001b[0m\u001b[0;34m)\u001b[0m\u001b[0;34m\u001b[0m\u001b[0m\n\u001b[0m\u001b[1;32m     56\u001b[0m \u001b[0;34m\u001b[0m\u001b[0m\n\u001b[1;32m     57\u001b[0m DEFAULT_SERIALIZERS = {\n",
      "\u001b[0;31mSerializationError\u001b[0m: ({'attributes': {'By Appointment Only': True}, 'business_id': 'vcNAWiLM4dR7D2nwwJ7nCA', 'categories': ['Doctors', 'Health & Medical'], 'city': 'Phoenix', 'full_address': '4840 E Indian School Rd\\nSte 101\\nPhoenix, AZ 85018', 'hours': {'Thursday': {'close': '17:00', 'open': '08:00'}, 'Tuesday': {'close': '17:00', 'open': '08:00'}, 'Friday': {'close': '17:00', 'open': '08:00'}, 'Wednesday': {'close': '17:00', 'open': '08:00'}, 'Monday': {'close': '17:00', 'open': '08:00'}}, 'latitude': 33.499313, 'longitude': -111.983758, 'name': 'Eric Goldberg, MD', 'neighborhoods': [], 'open': True, 'review_count': 9, 'stars': 3.5, 'state': 'AZ', 'type': 'business'}, TypeError(\"Unable to serialize True (type: <class 'numpy.bool_'>)\",))"
     ]
    }
   ],
   "source": [
    "import json\n",
    "\n",
    "#row = ['attributes', 'business_id', 'categories', 'city', 'full_address','hours', 'latitude', 'longitude', 'name', 'neighborhoods', 'open','review_count', 'stars', 'state', 'type']\n",
    "\n",
    "l = len(businessdata) - 1\n",
    "i = 0\n",
    "\n",
    "for i in range(0, 1):\n",
    "    temp = businessdata[i]\n",
    "    es.create(index='yelp', doc_type='business', id=i, body=temp)\n",
    "    print(i, 'records have been uploaded')\n",
    "print(i, 'data finished!!!')\n",
    "\n",
    "\n"
   ]
  },
  {
   "cell_type": "code",
   "execution_count": 27,
   "metadata": {},
   "outputs": [
    {
     "name": "stdout",
     "output_type": "stream",
     "text": [
      "{'attributes': {'By Appointment Only': True}, 'business_id': 'vcNAWiLM4dR7D2nwwJ7nCA', 'categories': ['Doctors', 'Health & Medical'], 'city': 'Phoenix', 'full_address': '4840 E Indian School Rd\\nSte 101\\nPhoenix, AZ 85018', 'hours': {'Thursday': {'close': '17:00', 'open': '08:00'}, 'Tuesday': {'close': '17:00', 'open': '08:00'}, 'Friday': {'close': '17:00', 'open': '08:00'}, 'Wednesday': {'close': '17:00', 'open': '08:00'}, 'Monday': {'close': '17:00', 'open': '08:00'}}, 'latitude': 33.499313, 'longitude': -111.983758, 'name': 'Eric Goldberg, MD', 'neighborhoods': [], 'open': True, 'review_count': 9, 'stars': 3.5, 'state': 'AZ', 'type': 'business'}\n"
     ]
    }
   ],
   "source": [
    "print(temp)"
   ]
  },
  {
   "cell_type": "code",
   "execution_count": 28,
   "metadata": {},
   "outputs": [
    {
     "name": "stdout",
     "output_type": "stream",
     "text": [
      "{'attributes': {'By Appointment Only': True}, 'business_id': 'vcNAWiLM4dR7D2nwwJ7nCA', 'categories': ['Doctors', 'Health & Medical'], 'city': 'Phoenix', 'full_address': '4840 E Indian School Rd\\nSte 101\\nPhoenix, AZ 85018', 'hours': {'Thursday': {'close': '17:00', 'open': '08:00'}, 'Tuesday': {'close': '17:00', 'open': '08:00'}, 'Friday': {'close': '17:00', 'open': '08:00'}, 'Wednesday': {'close': '17:00', 'open': '08:00'}, 'Monday': {'close': '17:00', 'open': '08:00'}}, 'latitude': 33.499313, 'longitude': -111.983758, 'name': 'Eric Goldberg, MD', 'neighborhoods': [], 'open': True, 'review_count': 9, 'stars': 3.5, 'state': 'AZ', 'type': 'business'}\n",
      "{'attributes': {'Happy Hour': True, 'Accepts Credit Cards': True, 'Good For Groups': True, 'Outdoor Seating': False, 'Price Range': 1}, 'business_id': 'UsFtqoBl7naz8AVUBZMjQQ', 'categories': ['Nightlife'], 'city': 'Dravosburg', 'full_address': '202 McClure St\\nDravosburg, PA 15034', 'hours': {}, 'latitude': 40.350519, 'longitude': -79.88693, 'name': \"Clancy's Pub\", 'neighborhoods': [], 'open': True, 'review_count': 4, 'stars': 3.5, 'state': 'PA', 'type': 'business'}\n",
      "{'attributes': {'Good for Kids': True}, 'business_id': 'cE27W9VPgO88Qxe4ol6y_g', 'categories': ['Active Life', 'Mini Golf', 'Golf'], 'city': 'Bethel Park', 'full_address': '1530 Hamilton Rd\\nBethel Park, PA 15234', 'hours': {}, 'latitude': 40.3568962, 'longitude': -80.01591, 'name': 'Cool Springs Golf Center', 'neighborhoods': [], 'open': False, 'review_count': 5, 'stars': 2.5, 'state': 'PA', 'type': 'business'}\n",
      "{'attributes': {}, 'business_id': 'HZdLhv6COCleJMo7nPl-RA', 'categories': ['Shopping', 'Home Services', 'Internet Service Providers', 'Mobile Phones', 'Professional Services', 'Electronics'], 'city': 'Pittsburgh', 'full_address': '301 S Hills Vlg\\nPittsburgh, PA 15241', 'hours': {'Monday': {'close': '21:00', 'open': '10:00'}, 'Tuesday': {'close': '21:00', 'open': '10:00'}, 'Friday': {'close': '21:00', 'open': '10:00'}, 'Wednesday': {'close': '21:00', 'open': '10:00'}, 'Thursday': {'close': '21:00', 'open': '10:00'}, 'Sunday': {'close': '18:00', 'open': '11:00'}, 'Saturday': {'close': '21:00', 'open': '10:00'}}, 'latitude': 40.35762, 'longitude': -80.05998, 'name': 'Verizon Wireless', 'neighborhoods': [], 'open': True, 'review_count': 3, 'stars': 3.5, 'state': 'PA', 'type': 'business'}\n",
      "{'attributes': {'Alcohol': 'full_bar', 'Noise Level': 'average', 'Music': {'dj': False}, 'Attire': 'casual', 'Ambience': {'romantic': False, 'intimate': False, 'classy': False, 'hipster': False, 'divey': False, 'touristy': False, 'trendy': False, 'upscale': False, 'casual': False}, 'Good for Kids': True, 'Price Range': 1, 'Good For Dancing': False, 'Delivery': False, 'Coat Check': False, 'Smoking': 'no', 'Accepts Credit Cards': True, 'Take-out': True, 'Happy Hour': False, 'Outdoor Seating': False, 'Takes Reservations': False, 'Waiter Service': True, 'Wi-Fi': 'no', 'Caters': True, 'Good For': {'dessert': False, 'latenight': False, 'lunch': False, 'dinner': False, 'brunch': False, 'breakfast': False}, 'Parking': {'garage': False, 'street': False, 'validated': False, 'lot': False, 'valet': False}, 'Has TV': True, 'Good For Groups': True}, 'business_id': 'mVHrayjG3uZ_RLHkLj-AMg', 'categories': ['Bars', 'American (New)', 'Nightlife', 'Lounges', 'Restaurants'], 'city': 'Braddock', 'full_address': '414 Hawkins Ave\\nBraddock, PA 15104', 'hours': {'Tuesday': {'close': '19:00', 'open': '10:00'}, 'Friday': {'close': '20:00', 'open': '10:00'}, 'Saturday': {'close': '16:00', 'open': '10:00'}, 'Thursday': {'close': '19:00', 'open': '10:00'}, 'Wednesday': {'close': '19:00', 'open': '10:00'}}, 'latitude': 40.408735, 'longitude': -79.8663507, 'name': \"Emil's Lounge\", 'neighborhoods': [], 'open': True, 'review_count': 11, 'stars': 4.5, 'state': 'PA', 'type': 'business'}\n",
      "{'attributes': {'Alcohol': 'full_bar', 'Noise Level': 'loud', 'Music': {'dj': False}, 'Attire': 'casual', 'Ambience': {'romantic': False, 'intimate': False, 'touristy': False, 'hipster': False, 'divey': False, 'classy': False, 'trendy': False, 'upscale': False, 'casual': True}, 'Good for Kids': False, 'Price Range': 1, 'Good For Dancing': True, 'Delivery': False, 'Coat Check': False, 'Smoking': 'outdoor', 'Accepts Credit Cards': True, 'Take-out': True, 'Happy Hour': True, 'Outdoor Seating': True, 'Takes Reservations': False, 'Waiter Service': True, 'Wi-Fi': 'free', 'Caters': False, 'Good For': {'dessert': False, 'latenight': False, 'lunch': False, 'dinner': True, 'breakfast': False, 'brunch': False}, 'Parking': {'garage': False, 'street': False, 'validated': False, 'lot': True, 'valet': False}, 'Has TV': True, 'Good For Groups': True}, 'business_id': 'KayYbHCt-RkbGcPdGOThNg', 'categories': ['Bars', 'American (Traditional)', 'Nightlife', 'Restaurants'], 'city': 'Carnegie', 'full_address': '141 Hawthorne St\\nGreentree\\nCarnegie, PA 15106', 'hours': {}, 'latitude': 40.415517, 'longitude': -80.067534, 'name': \"Alexion's Bar & Grill\", 'neighborhoods': ['Greentree'], 'open': True, 'review_count': 15, 'stars': 4.0, 'state': 'PA', 'type': 'business'}\n",
      "{'attributes': {}, 'business_id': 'b12U9TFESStdy7CsTtcOeg', 'categories': ['Auto Repair', 'Automotive'], 'city': 'Carnegie', 'full_address': '718 Hope Hollow Rd\\nCarnegie, PA 15106', 'hours': {}, 'latitude': 40.394588, 'longitude': -80.0844539, 'name': \"Flynn's E W Tire Service Center\", 'neighborhoods': [], 'open': True, 'review_count': 5, 'stars': 1.5, 'state': 'PA', 'type': 'business'}\n",
      "{'attributes': {'Good for Kids': True}, 'business_id': 'Sktj1eHQFuVa-M4bgnEh8g', 'categories': ['Active Life', 'Mini Golf'], 'city': 'Carnegie', 'full_address': '920 Forsythe Rd\\nCarnegie\\nCarnegie, PA 15106', 'hours': {}, 'latitude': 40.4054039, 'longitude': -80.0762665, 'name': 'Forsythe Miniature Golf & Snacks', 'neighborhoods': ['Carnegie'], 'open': True, 'review_count': 4, 'stars': 4.0, 'state': 'PA', 'type': 'business'}\n",
      "{'attributes': {}, 'business_id': '3ZVKmuK2l7uXPE6lXY4Dbg', 'categories': ['Home Services', 'Contractors'], 'city': 'Carnegie', 'full_address': '8 Logan St\\nCarnegie\\nCarnegie, PA 15106', 'hours': {}, 'latitude': 40.406324, 'longitude': -80.090357, 'name': 'Quaker State Construction', 'neighborhoods': ['Carnegie'], 'open': True, 'review_count': 3, 'stars': 2.5, 'state': 'PA', 'type': 'business'}\n",
      "{'attributes': {'Take-out': True, 'Drive-Thru': False, 'Outdoor Seating': False, 'Price Range': 1, 'Takes Reservations': False, 'Good For Groups': True, 'Delivery': False, 'Good For': {'dessert': False, 'latenight': False, 'lunch': False, 'dinner': False, 'breakfast': False, 'brunch': False}, 'Parking': {'garage': False, 'street': False, 'validated': False, 'lot': False, 'valet': False}, 'Attire': 'casual', 'Waiter Service': True, 'Accepts Credit Cards': True, 'Good for Kids': True, 'Alcohol': 'none', 'Wheelchair Accessible': True}, 'business_id': 'wJr6kSA5dchdgOdwH6dZ2w', 'categories': ['Burgers', 'Breakfast & Brunch', 'American (Traditional)', 'Restaurants'], 'city': 'Carnegie', 'full_address': '2100 Washington Pike\\nCarnegie, PA 15106', 'hours': {'Monday': {'close': '02:00', 'open': '08:00'}, 'Tuesday': {'close': '02:00', 'open': '08:00'}, 'Friday': {'close': '02:00', 'open': '08:00'}, 'Wednesday': {'close': '02:00', 'open': '08:00'}, 'Thursday': {'close': '02:00', 'open': '08:00'}, 'Sunday': {'close': '02:00', 'open': '08:00'}, 'Saturday': {'close': '02:00', 'open': '08:00'}}, 'latitude': 40.3877323, 'longitude': -80.0928745, 'name': 'Kings Family Restaurant', 'neighborhoods': [], 'open': True, 'review_count': 8, 'stars': 3.5, 'state': 'PA', 'type': 'business'}\n"
     ]
    }
   ],
   "source": [
    "for i in range(0, 10):\n",
    "    temp = businessdata[i]\n",
    "    print(temp)"
   ]
  },
  {
   "cell_type": "code",
   "execution_count": null,
   "metadata": {},
   "outputs": [],
   "source": [
    "for row in businessdata:\n",
    "    temp = businessdata[i]\n",
    "    es.create(index='yelp', doc_type='business', id=i, body=temp)\n",
    "    i += 1\n",
    "#    if i % 61184 == 0:\n",
    "    if i % l == 0:\n",
    "        print(i, 'records have been uploaded')\n",
    "print(table, 'data finished!!!')\n",
    "\n",
    "\n",
    "#i = 0\n",
    "#for line in businessdata:\n",
    "#    result=es.create(index='yelp', doc_type='business', id=i, body=json.loads(line))\n",
    "#    i += 1\n",
    "#    if i % 5000 == 0:\n",
    "#        print(i, 'records have been uploaded')\n",
    "#print(table, 'data finished!!!')\n",
    "\n",
    "#for inputdata in businessdata:\n",
    "#    es.index(index='yelp', doc_type='business', body=inputdata)"
   ]
  },
  {
   "cell_type": "code",
   "execution_count": null,
   "metadata": {},
   "outputs": [],
   "source": [
    "#from elasticsearch import Elasticsearch \n",
    "#es = Elasticsearch()\n",
    "\n",
    "#from tqdm import tqdm \n",
    "#import json\n",
    "\n",
    "#tables = ['business','checkin','photo','review','tip','user']\n",
    "#for table in tqdm(tables):\n",
    "#    data = []\n",
    "#    _ = es.indices.create(index='yelp_'+table , ignore=400)\n",
    "#    with open('/Users/UID/BIGDATA/Yelp Analysis/yelp_academic_dataset_business.pickle'.format(table), encoding='utf-8') as f:\n",
    "#        i = 0\n",
    "#        for line in f:\n",
    "#            result=es.create(index='yelp_'+table,doc_type=table,id=i,body=json.loads(line))\n",
    "#            i += 1\n",
    "#            if i % 5000 == 0:\n",
    "#                print(i, 'records have been uploaded')\n",
    "#    print(table, 'data finished!!!')"
   ]
  },
  {
   "cell_type": "code",
   "execution_count": 51,
   "metadata": {},
   "outputs": [
    {
     "data": {
      "text/plain": [
       "61184"
      ]
     },
     "execution_count": 51,
     "metadata": {},
     "output_type": "execute_result"
    }
   ],
   "source": [
    "#len(businessdata)"
   ]
  },
  {
   "cell_type": "code",
   "execution_count": null,
   "metadata": {},
   "outputs": [],
   "source": []
  }
 ],
 "metadata": {
  "kernelspec": {
   "display_name": "Python 3",
   "language": "python",
   "name": "python3"
  },
  "language_info": {
   "codemirror_mode": {
    "name": "ipython",
    "version": 3
   },
   "file_extension": ".py",
   "mimetype": "text/x-python",
   "name": "python",
   "nbconvert_exporter": "python",
   "pygments_lexer": "ipython3",
   "version": "3.6.5"
  }
 },
 "nbformat": 4,
 "nbformat_minor": 2
}
